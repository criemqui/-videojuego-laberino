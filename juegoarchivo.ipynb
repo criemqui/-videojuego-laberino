{
  "nbformat": 4,
  "nbformat_minor": 0,
  "metadata": {
    "colab": {
      "provenance": [],
      "authorship_tag": "ABX9TyNsXTu3yD4dU9owhjC6Oxvj",
      "include_colab_link": true
    },
    "kernelspec": {
      "name": "python3",
      "display_name": "Python 3"
    },
    "language_info": {
      "name": "python"
    }
  },
  "cells": [
    {
      "cell_type": "markdown",
      "metadata": {
        "id": "view-in-github",
        "colab_type": "text"
      },
      "source": [
        "<a href=\"https://colab.research.google.com/github/criemqui/-videojuego-laberino/blob/main/juegoarchivo.ipynb\" target=\"_parent\"><img src=\"https://colab.research.google.com/assets/colab-badge.svg\" alt=\"Open In Colab\"/></a>"
      ]
    },
    {
      "cell_type": "code",
      "execution_count": null,
      "metadata": {
        "id": "h2V0cGMGtDaZ"
      },
      "outputs": [],
      "source": [
        "class JuegoArchivo(JuegoLaberinto):\n",
        "    def __init__(self, carpeta_mapas, pos_inicial, pos_final):\n",
        "        # Llamar al constructor de la clase padre\n",
        "        super().__init__(carpeta_mapas, pos_inicial, pos_final)\n",
        "\n",
        "        # Obtener la lista de archivos en la carpeta de mapas\n",
        "        lista_archivos = os.listdir(carpeta_mapas)\n",
        "\n",
        "        # Seleccionar aleatoriamente un archivo de la lista\n",
        "        nombre_archivo = random.choice(lista_archivos)\n",
        "\n",
        "        # Construir el path completo al archivo del mapa\n",
        "        path_completo = f\"{carpeta_mapas}/{nombre_archivo}\"\n",
        "\n",
        "        # Leer el contenido del archivo del mapa y establecer el mapa\n",
        "        self.mapa = self.leer_mapa(path_completo)\n",
        "\n",
        "    def leer_mapa(self, ruta_mapa):\n",
        "        # Inicializar la cadena del mapa\n",
        "        cadena_mapa = \"\"\n",
        "\n",
        "        # Leer el contenido del archivo del mapa\n",
        "        with open(ruta_mapa, 'r') as file:\n",
        "            for linea in file:\n",
        "                # Agregar la línea del mapa a la cadena\n",
        "                cadena_mapa += linea\n",
        "\n",
        "        # Agregar coordenadas de inicio y fin al final de la cadena del mapa\n",
        "        cadena_mapa += f\"\\nInicio: {self.pos_inicial}, Fin: {self.pos_final}\"\n",
        "\n",
        "        # Eliminar caracteres en blanco residuales y devolver la cadena del mapa\n",
        "        return cadena_mapa.strip()\n",
        "\n",
        "    def mostrar_mapa(self):\n",
        "        print(self.mapa)\n",
        "\n",
        "# Ejemplo de uso\n",
        "carpeta_mapas = \"/ruta/a/tu/carpeta\"\n",
        "pos_inicial = (1, 2)\n",
        "pos_final = (19, 20)\n",
        "\n",
        "# Crear una instancia de JuegoArchivo\n",
        "juego_archivo = JuegoArchivo(carpeta_mapas, pos_inicial, pos_final)\n",
        "\n",
        "# Mostrar el mapa\n",
        "juego_archivo.mostrar_mapa()\n"
      ]
    }
  ]
}